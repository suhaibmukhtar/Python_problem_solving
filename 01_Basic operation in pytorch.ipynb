{
 "cells": [
  {
   "cell_type": "code",
   "execution_count": 1,
   "id": "1efda8d5",
   "metadata": {},
   "outputs": [],
   "source": [
    "import torch"
   ]
  },
  {
   "cell_type": "markdown",
   "id": "38cf53ed",
   "metadata": {},
   "source": [
    "### Creatin a simple vector using torch with random value in it"
   ]
  },
  {
   "cell_type": "code",
   "execution_count": 4,
   "id": "64b468a5",
   "metadata": {},
   "outputs": [
    {
     "data": {
      "text/plain": [
       "tensor([0.])"
      ]
     },
     "execution_count": 4,
     "metadata": {},
     "output_type": "execute_result"
    }
   ],
   "source": [
    "x=torch.empty(1)\n",
    "x"
   ]
  },
  {
   "cell_type": "markdown",
   "id": "73c541ea",
   "metadata": {},
   "source": [
    "### Creating a simple vector with random element in it"
   ]
  },
  {
   "cell_type": "code",
   "execution_count": 6,
   "id": "bce08c0b",
   "metadata": {},
   "outputs": [
    {
     "data": {
      "text/plain": [
       "tensor([0.7486, 0.1887, 0.4931, 0.9719])"
      ]
     },
     "execution_count": 6,
     "metadata": {},
     "output_type": "execute_result"
    }
   ],
   "source": [
    "x=torch.rand(4)\n",
    "x"
   ]
  },
  {
   "cell_type": "markdown",
   "id": "cf152403",
   "metadata": {},
   "source": [
    "### Creating a matrix with random values"
   ]
  },
  {
   "cell_type": "code",
   "execution_count": 9,
   "id": "a87945dd",
   "metadata": {},
   "outputs": [
    {
     "data": {
      "text/plain": [
       "tensor([[0.7967, 0.9710, 0.4841],\n",
       "        [0.4180, 0.7882, 0.0882],\n",
       "        [0.4471, 0.0511, 0.1326],\n",
       "        [0.0424, 0.2956, 0.9089]])"
      ]
     },
     "execution_count": 9,
     "metadata": {},
     "output_type": "execute_result"
    }
   ],
   "source": [
    "x=torch.rand(4,3)\n",
    "x              "
   ]
  },
  {
   "cell_type": "markdown",
   "id": "c284553b",
   "metadata": {},
   "source": [
    "### Creating a matrix with all entries as ones"
   ]
  },
  {
   "cell_type": "code",
   "execution_count": 10,
   "id": "0af7ab96",
   "metadata": {},
   "outputs": [
    {
     "data": {
      "text/plain": [
       "tensor([[1., 1., 1., 1., 1., 1.],\n",
       "        [1., 1., 1., 1., 1., 1.],\n",
       "        [1., 1., 1., 1., 1., 1.],\n",
       "        [1., 1., 1., 1., 1., 1.]])"
      ]
     },
     "execution_count": 10,
     "metadata": {},
     "output_type": "execute_result"
    }
   ],
   "source": [
    "x=torch.ones(4,6)\n",
    "x"
   ]
  },
  {
   "cell_type": "markdown",
   "id": "24e363aa",
   "metadata": {},
   "source": [
    "### Creating a matrix with all entries as zeros"
   ]
  },
  {
   "cell_type": "code",
   "execution_count": 11,
   "id": "61ed582d",
   "metadata": {},
   "outputs": [
    {
     "data": {
      "text/plain": [
       "tensor([[0., 0., 0., 0., 0.],\n",
       "        [0., 0., 0., 0., 0.],\n",
       "        [0., 0., 0., 0., 0.],\n",
       "        [0., 0., 0., 0., 0.],\n",
       "        [0., 0., 0., 0., 0.]])"
      ]
     },
     "execution_count": 11,
     "metadata": {},
     "output_type": "execute_result"
    }
   ],
   "source": [
    "x=torch.zeros(5,5)\n",
    "x"
   ]
  },
  {
   "cell_type": "markdown",
   "id": "6f969206",
   "metadata": {},
   "source": [
    "## Creating a 3D tensor or matrix"
   ]
  },
  {
   "cell_type": "code",
   "execution_count": 13,
   "id": "9c5f6ad5",
   "metadata": {},
   "outputs": [
    {
     "data": {
      "text/plain": [
       "tensor([[[1., 1., 1.],\n",
       "         [1., 1., 1.],\n",
       "         [1., 1., 1.],\n",
       "         [1., 1., 1.]],\n",
       "\n",
       "        [[1., 1., 1.],\n",
       "         [1., 1., 1.],\n",
       "         [1., 1., 1.],\n",
       "         [1., 1., 1.]]])"
      ]
     },
     "execution_count": 13,
     "metadata": {},
     "output_type": "execute_result"
    }
   ],
   "source": [
    "x=torch.ones(2,4,3) #creates a 3d tensor with two 4x3 matrices\n",
    "x"
   ]
  },
  {
   "cell_type": "markdown",
   "id": "64ee038d",
   "metadata": {},
   "source": [
    "### Creates the two tensors with each tensor containing two 3x4 matrices"
   ]
  },
  {
   "cell_type": "code",
   "execution_count": 17,
   "id": "d1ac7c19",
   "metadata": {},
   "outputs": [
    {
     "data": {
      "text/plain": [
       "tensor([[[[1., 1., 1., 1.],\n",
       "          [1., 1., 1., 1.],\n",
       "          [1., 1., 1., 1.]],\n",
       "\n",
       "         [[1., 1., 1., 1.],\n",
       "          [1., 1., 1., 1.],\n",
       "          [1., 1., 1., 1.]]],\n",
       "\n",
       "\n",
       "        [[[1., 1., 1., 1.],\n",
       "          [1., 1., 1., 1.],\n",
       "          [1., 1., 1., 1.]],\n",
       "\n",
       "         [[1., 1., 1., 1.],\n",
       "          [1., 1., 1., 1.],\n",
       "          [1., 1., 1., 1.]]]])"
      ]
     },
     "execution_count": 17,
     "metadata": {},
     "output_type": "execute_result"
    }
   ],
   "source": [
    "x=torch.ones(2,2,3,4)\n",
    "x"
   ]
  },
  {
   "cell_type": "markdown",
   "id": "39f241f2",
   "metadata": {},
   "source": [
    "## Operations in torch"
   ]
  },
  {
   "cell_type": "markdown",
   "id": "8c138329",
   "metadata": {},
   "source": [
    "### Addition"
   ]
  },
  {
   "cell_type": "code",
   "execution_count": 24,
   "id": "6d16abcb",
   "metadata": {},
   "outputs": [
    {
     "name": "stdout",
     "output_type": "stream",
     "text": [
      "X:\n",
      "tensor([[1., 1., 1.],\n",
      "        [1., 1., 1.],\n",
      "        [1., 1., 1.]])\n",
      "Y:\n",
      "tensor([[1., 1., 1.],\n",
      "        [1., 1., 1.],\n",
      "        [1., 1., 1.]])\n",
      "X+Y\n",
      "tensor([[2., 2., 2.],\n",
      "        [2., 2., 2.],\n",
      "        [2., 2., 2.]])\n"
     ]
    }
   ],
   "source": [
    "x=torch.ones(3,3)   #performst the addition element wise like dot product\n",
    "y=torch.ones(3,3)\n",
    "print(f\"X:\\n{x}\")\n",
    "print(f\"Y:\\n{y}\")\n",
    "print(f\"X+Y\\n{x+y}\")"
   ]
  },
  {
   "cell_type": "markdown",
   "id": "780da7d3",
   "metadata": {},
   "source": [
    "### Same for sub, multiplication and division"
   ]
  },
  {
   "cell_type": "code",
   "execution_count": 29,
   "id": "8c840c02",
   "metadata": {},
   "outputs": [
    {
     "name": "stdout",
     "output_type": "stream",
     "text": [
      "X-Y:\n",
      "tensor([[0., 0., 0.],\n",
      "        [0., 0., 0.],\n",
      "        [0., 0., 0.]])\n",
      "X*Y:\n",
      "tensor([[1., 1., 1.],\n",
      "        [1., 1., 1.],\n",
      "        [1., 1., 1.]])\n",
      "X/Y:\n",
      "tensor([[1., 1., 1.],\n",
      "        [1., 1., 1.],\n",
      "        [1., 1., 1.]])\n"
     ]
    }
   ],
   "source": [
    "print(f\"X-Y:\\n{x-y}\")\n",
    "print(f\"X*Y:\\n{x*y}\")\n",
    "print(f\"X/Y:\\n{x/y}\")\n",
    "##element wise"
   ]
  },
  {
   "cell_type": "markdown",
   "id": "e7907642",
   "metadata": {},
   "source": [
    "### reshape in torch using view #note while reshape number of element must be same"
   ]
  },
  {
   "cell_type": "code",
   "execution_count": 38,
   "id": "077f842d",
   "metadata": {},
   "outputs": [
    {
     "name": "stdout",
     "output_type": "stream",
     "text": [
      "tensor([[0.6583, 0.8307, 0.0839, 0.6359],\n",
      "        [0.3000, 0.8688, 0.9450, 0.4569],\n",
      "        [0.1346, 0.4586, 0.0711, 0.8444]])\n"
     ]
    },
    {
     "data": {
      "text/plain": [
       "tensor([[0.6583, 0.8307, 0.0839],\n",
       "        [0.6359, 0.3000, 0.8688],\n",
       "        [0.9450, 0.4569, 0.1346],\n",
       "        [0.4586, 0.0711, 0.8444]])"
      ]
     },
     "execution_count": 38,
     "metadata": {},
     "output_type": "execute_result"
    }
   ],
   "source": [
    "x=torch.rand(3,4)\n",
    "print(x)\n",
    "#reshaping to 4x3\n",
    "x.view(4,3)"
   ]
  },
  {
   "cell_type": "code",
   "execution_count": 40,
   "id": "99b21c73",
   "metadata": {},
   "outputs": [
    {
     "data": {
      "text/plain": [
       "tensor([0.1115, 0.8016, 0.4172, 0.5827, 0.4401, 0.3581, 0.2963, 0.0680, 0.1989,\n",
       "        0.5857, 0.6268, 0.9782, 0.9423, 0.8200, 0.4104, 0.1010, 0.0957, 0.4128,\n",
       "        0.0459, 0.4338])"
      ]
     },
     "execution_count": 40,
     "metadata": {},
     "output_type": "execute_result"
    }
   ],
   "source": [
    "## Reshaping to 1D array\n",
    "x=torch.rand(5,4)\n",
    "x.view(20)"
   ]
  },
  {
   "cell_type": "code",
   "execution_count": 41,
   "id": "249f8c46",
   "metadata": {},
   "outputs": [
    {
     "data": {
      "text/plain": [
       "tensor([[0.1115, 0.8016, 0.4172, 0.5827, 0.4401, 0.3581, 0.2963, 0.0680, 0.1989,\n",
       "         0.5857],\n",
       "        [0.6268, 0.9782, 0.9423, 0.8200, 0.4104, 0.1010, 0.0957, 0.4128, 0.0459,\n",
       "         0.4338]])"
      ]
     },
     "execution_count": 41,
     "metadata": {},
     "output_type": "execute_result"
    }
   ],
   "source": [
    "## reshping to 2, 10 =20\n",
    "x.view(-1,10)#means should contain 10 columns rest configure automaticalyy"
   ]
  },
  {
   "cell_type": "markdown",
   "id": "f9111dd2",
   "metadata": {},
   "source": [
    "### Slicing of an tensor is same as in array"
   ]
  },
  {
   "cell_type": "code",
   "execution_count": 45,
   "id": "67c344c0",
   "metadata": {},
   "outputs": [
    {
     "name": "stdout",
     "output_type": "stream",
     "text": [
      "tensor([[0.1806, 0.4336, 0.0791, 0.1543, 0.6146],\n",
      "        [0.5537, 0.0711, 0.1157, 0.4637, 0.1101],\n",
      "        [0.0534, 0.0786, 0.0892, 0.3093, 0.3049],\n",
      "        [0.4675, 0.5074, 0.7891, 0.0854, 0.0853],\n",
      "        [0.5172, 0.2334, 0.3987, 0.1059, 0.7020]])\n",
      "torch.Size([5, 5])\n",
      "tensor([[0.1806, 0.4336, 0.0791],\n",
      "        [0.5537, 0.0711, 0.1157],\n",
      "        [0.0534, 0.0786, 0.0892],\n",
      "        [0.4675, 0.5074, 0.7891],\n",
      "        [0.5172, 0.2334, 0.3987]])\n",
      "torch.Size([5, 3])\n"
     ]
    }
   ],
   "source": [
    "x=torch.rand(5,5)\n",
    "print(x)\n",
    "print(x.shape)\n",
    "y=x[:,:3] #0,1,2\n",
    "print(y)\n",
    "print(y.shape)"
   ]
  },
  {
   "cell_type": "markdown",
   "id": "5e4edded",
   "metadata": {},
   "source": [
    "### To convert numpy array into tensor and vice-versa"
   ]
  },
  {
   "cell_type": "code",
   "execution_count": 46,
   "id": "d1551ee4",
   "metadata": {},
   "outputs": [],
   "source": [
    "import numpy as np"
   ]
  },
  {
   "cell_type": "code",
   "execution_count": 52,
   "id": "d34b00b8",
   "metadata": {},
   "outputs": [
    {
     "name": "stdout",
     "output_type": "stream",
     "text": [
      "[ 3  4  5  7  4 22]\n",
      "Conversion of Array to Tensor\n",
      "tensor([ 3,  4,  5,  7,  4, 22], dtype=torch.int32)\n"
     ]
    }
   ],
   "source": [
    "##numpy to tensor\n",
    "x=np.array([3,4,5,7,4,22])\n",
    "print(x)\n",
    "#to tensor\n",
    "print(\"Conversion of Array to Tensor\")\n",
    "y=torch.from_numpy(x)\n",
    "print(y)"
   ]
  },
  {
   "cell_type": "code",
   "execution_count": 55,
   "id": "6a1b8e05",
   "metadata": {},
   "outputs": [
    {
     "name": "stdout",
     "output_type": "stream",
     "text": [
      "tensor([0.9087, 0.5366, 0.0797, 0.3708, 0.1084])\n",
      "Conversion of Tensor to numpy array\n",
      "[0.90874684 0.53657645 0.07965177 0.37079358 0.108401  ]\n"
     ]
    }
   ],
   "source": [
    "x=torch.rand(5)\n",
    "print(x)\n",
    "#conversion to numpy\n",
    "print(\"Conversion of Tensor to numpy array\")\n",
    "y=x.numpy()\n",
    "print(y)"
   ]
  },
  {
   "cell_type": "code",
   "execution_count": null,
   "id": "2c5d7905",
   "metadata": {},
   "outputs": [],
   "source": []
  }
 ],
 "metadata": {
  "kernelspec": {
   "display_name": "Python 3 (ipykernel)",
   "language": "python",
   "name": "python3"
  },
  "language_info": {
   "codemirror_mode": {
    "name": "ipython",
    "version": 3
   },
   "file_extension": ".py",
   "mimetype": "text/x-python",
   "name": "python",
   "nbconvert_exporter": "python",
   "pygments_lexer": "ipython3",
   "version": "3.9.13"
  }
 },
 "nbformat": 4,
 "nbformat_minor": 5
}
