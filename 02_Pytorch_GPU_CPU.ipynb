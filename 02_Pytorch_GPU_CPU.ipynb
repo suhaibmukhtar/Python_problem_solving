{
 "cells": [
  {
   "cell_type": "markdown",
   "id": "9a11170a",
   "metadata": {},
   "source": [
    "## How pytorch forces tensors to shift on gpu"
   ]
  },
  {
   "cell_type": "code",
   "execution_count": 11,
   "id": "bb4dad61",
   "metadata": {},
   "outputs": [],
   "source": [
    "import torch\n",
    "import numpy as np"
   ]
  },
  {
   "cell_type": "code",
   "execution_count": 12,
   "id": "b95af732",
   "metadata": {},
   "outputs": [],
   "source": [
    "x=torch.ones(3,4)"
   ]
  },
  {
   "cell_type": "markdown",
   "id": "1de7c801",
   "metadata": {},
   "source": [
    "### To check whether cuda is availabe or not"
   ]
  },
  {
   "cell_type": "code",
   "execution_count": 13,
   "id": "7af5e028",
   "metadata": {},
   "outputs": [
    {
     "name": "stdout",
     "output_type": "stream",
     "text": [
      "cpu\n"
     ]
    }
   ],
   "source": [
    "if torch.cuda.is_available():\n",
    "    device=torch.device('cuda')\n",
    "else:   #if else portion not mentioned throws an error when printing device bcz cuda not available only cpu\n",
    "    device=torch.device('cpu')\n",
    "print(device)\n",
    "    "
   ]
  },
  {
   "cell_type": "markdown",
   "id": "80001895",
   "metadata": {},
   "source": [
    "## Pytorch is wll suited to make processing easy for setting of GPU"
   ]
  },
  {
   "cell_type": "markdown",
   "id": "b88d646e",
   "metadata": {},
   "source": [
    "### To make gpu using tensor for processing "
   ]
  },
  {
   "cell_type": "code",
   "execution_count": 14,
   "id": "4f5b237c",
   "metadata": {},
   "outputs": [
    {
     "data": {
      "text/plain": [
       "tensor([1., 1., 1.])"
      ]
     },
     "execution_count": 14,
     "metadata": {},
     "output_type": "execute_result"
    }
   ],
   "source": [
    "x=torch.ones(3,device=device)\n",
    "x #if availabe cude x = tensor([1.,1.,1],device='cuda':0)"
   ]
  },
  {
   "cell_type": "markdown",
   "id": "3e021589",
   "metadata": {},
   "source": [
    "## if out tensor is on cpu and we want to shift it to gpu use to_device()"
   ]
  },
  {
   "cell_type": "code",
   "execution_count": 36,
   "id": "04c1c366",
   "metadata": {},
   "outputs": [
    {
     "name": "stdout",
     "output_type": "stream",
     "text": [
      "tensor([1., 1., 1., 1.])\n"
     ]
    }
   ],
   "source": [
    "x=torch.ones(4,device=\"cpu\")\n",
    "print(x)"
   ]
  },
  {
   "cell_type": "code",
   "execution_count": 37,
   "id": "87c3dd29",
   "metadata": {},
   "outputs": [
    {
     "data": {
      "text/plain": [
       "tensor([1., 1., 1., 1.])"
      ]
     },
     "execution_count": 37,
     "metadata": {},
     "output_type": "execute_result"
    }
   ],
   "source": [
    "#To forcely set x on gpu for processing\n",
    "x=x.to(device) #using this way we can set to gpu also\n",
    "x"
   ]
  },
  {
   "cell_type": "markdown",
   "id": "20bee808",
   "metadata": {},
   "source": [
    "### Creating a matrix of Zeros"
   ]
  },
  {
   "cell_type": "code",
   "execution_count": 38,
   "id": "a6c1c64a",
   "metadata": {},
   "outputs": [],
   "source": [
    "ar=torch.zeros(3,4)\n",
    "## Creating a matix of size 3x4\n",
    "li=np.arange(12)\n",
    "ar3=torch.from_numpy(li)\n",
    "ar3=ar3.view(3,4)"
   ]
  },
  {
   "cell_type": "code",
   "execution_count": 39,
   "id": "27b7af81",
   "metadata": {},
   "outputs": [
    {
     "data": {
      "text/plain": [
       "tensor([[ 0,  1,  2,  3],\n",
       "        [ 4,  5,  6,  7],\n",
       "        [ 8,  9, 10, 11]], dtype=torch.int32)"
      ]
     },
     "execution_count": 39,
     "metadata": {},
     "output_type": "execute_result"
    }
   ],
   "source": [
    "ar3"
   ]
  },
  {
   "cell_type": "code",
   "execution_count": 40,
   "id": "3fdb2258",
   "metadata": {},
   "outputs": [
    {
     "name": "stdout",
     "output_type": "stream",
     "text": [
      "tensor([[1., 1., 1., 1.],\n",
      "        [1., 1., 1., 1.],\n",
      "        [1., 1., 1., 1.]])\n"
     ]
    }
   ],
   "source": [
    "## Creating a matrix of ones 3,4\n",
    "ar2=torch.ones(3,4)\n",
    "print(ar2)"
   ]
  },
  {
   "cell_type": "code",
   "execution_count": 41,
   "id": "97afbc92",
   "metadata": {},
   "outputs": [
    {
     "name": "stdout",
     "output_type": "stream",
     "text": [
      "tensor([[ 1.,  2.,  3.,  4.],\n",
      "        [ 5.,  6.,  7.,  8.],\n",
      "        [ 9., 10., 11., 12.]])\n"
     ]
    }
   ],
   "source": [
    "## Addition operation\n",
    "add=ar3+ar2 #performs the element wise addtion, i.e. vector addition\n",
    "print(add)"
   ]
  },
  {
   "cell_type": "code",
   "execution_count": 42,
   "id": "ac500c7f",
   "metadata": {},
   "outputs": [
    {
     "name": "stdout",
     "output_type": "stream",
     "text": [
      "tensor([[-1.,  0.,  1.,  2.],\n",
      "        [ 3.,  4.,  5.,  6.],\n",
      "        [ 7.,  8.,  9., 10.]])\n"
     ]
    }
   ],
   "source": [
    "##subtraction\n",
    "sub=ar3-ar2\n",
    "print(sub)"
   ]
  },
  {
   "cell_type": "code",
   "execution_count": 43,
   "id": "83a4a1b3",
   "metadata": {},
   "outputs": [
    {
     "name": "stdout",
     "output_type": "stream",
     "text": [
      "tensor([[ 0.,  1.,  2.,  3.],\n",
      "        [ 4.,  5.,  6.,  7.],\n",
      "        [ 8.,  9., 10., 11.]])\n"
     ]
    }
   ],
   "source": [
    "## multiplication\n",
    "mul=ar3*ar2 #as ar2 is all 1 we gat ar3 back\n",
    "print(mul)"
   ]
  },
  {
   "cell_type": "code",
   "execution_count": 44,
   "id": "8dd8c7aa",
   "metadata": {},
   "outputs": [
    {
     "name": "stdout",
     "output_type": "stream",
     "text": [
      "tensor([[2., 2., 2., 2.],\n",
      "        [2., 2., 2., 2.],\n",
      "        [2., 2., 2., 2.]])\n",
      "tensor([[0.0000, 0.5000, 1.0000, 1.5000],\n",
      "        [2.0000, 2.5000, 3.0000, 3.5000],\n",
      "        [4.0000, 4.5000, 5.0000, 5.5000]])\n"
     ]
    }
   ],
   "source": [
    "## div\n",
    "ar2=ar2*2\n",
    "print(ar2)\n",
    "div=ar3/ar2\n",
    "print(div)"
   ]
  },
  {
   "cell_type": "markdown",
   "id": "f06e7af5",
   "metadata": {},
   "source": [
    "## To Check whether CPU is available or GPU is available"
   ]
  },
  {
   "cell_type": "markdown",
   "id": "1aa721e2",
   "metadata": {},
   "source": [
    "**if Cuda means notebook is transferred on GPU**"
   ]
  },
  {
   "cell_type": "code",
   "execution_count": 53,
   "id": "d5ed4772",
   "metadata": {},
   "outputs": [],
   "source": [
    "### Check whether GPU is available or not\n",
    "if torch.cuda.is_available():\n",
    "    device=torch.device('cuda')\n",
    "else:\n",
    "    device=torch.device('cpu')"
   ]
  },
  {
   "cell_type": "code",
   "execution_count": 54,
   "id": "afcfb74c",
   "metadata": {},
   "outputs": [
    {
     "name": "stdout",
     "output_type": "stream",
     "text": [
      "cpu\n"
     ]
    }
   ],
   "source": [
    "print(device)"
   ]
  },
  {
   "cell_type": "markdown",
   "id": "2251285f",
   "metadata": {},
   "source": [
    "### To shift the particular tensor on the GPU"
   ]
  },
  {
   "cell_type": "code",
   "execution_count": 56,
   "id": "53dc9dc0",
   "metadata": {},
   "outputs": [
    {
     "name": "stdout",
     "output_type": "stream",
     "text": [
      "tensor([[1., 1., 1., 1.],\n",
      "        [1., 1., 1., 1.],\n",
      "        [1., 1., 1., 1.]])\n"
     ]
    }
   ],
   "source": [
    "y=torch.ones(3,4,device=device) #here we have cpu if cuda available then shifts to GPU\n",
    "print(y)"
   ]
  },
  {
   "cell_type": "markdown",
   "id": "82983730",
   "metadata": {},
   "source": [
    "### Another way to shift the already created tensor to GPU"
   ]
  },
  {
   "cell_type": "code",
   "execution_count": 61,
   "id": "02c83adf",
   "metadata": {},
   "outputs": [
    {
     "name": "stdout",
     "output_type": "stream",
     "text": [
      "tensor([[0., 0., 0., 0.],\n",
      "        [0., 0., 0., 0.],\n",
      "        [0., 0., 0., 0.]])\n"
     ]
    }
   ],
   "source": [
    "x=torch.zeros(3,4)\n",
    "#already created\n",
    "x=x.to(device)  #if cuda shifts to cude otherwise cpu\n",
    "print(x)"
   ]
  },
  {
   "cell_type": "markdown",
   "id": "dd2516e6",
   "metadata": {},
   "source": [
    "## Arguments"
   ]
  },
  {
   "cell_type": "markdown",
   "id": "7861da46",
   "metadata": {},
   "source": [
    "**Requires Grad**"
   ]
  },
  {
   "cell_type": "code",
   "execution_count": null,
   "id": "53ffb3e3",
   "metadata": {},
   "outputs": [],
   "source": []
  }
 ],
 "metadata": {
  "kernelspec": {
   "display_name": "Python 3 (ipykernel)",
   "language": "python",
   "name": "python3"
  },
  "language_info": {
   "codemirror_mode": {
    "name": "ipython",
    "version": 3
   },
   "file_extension": ".py",
   "mimetype": "text/x-python",
   "name": "python",
   "nbconvert_exporter": "python",
   "pygments_lexer": "ipython3",
   "version": "3.9.13"
  }
 },
 "nbformat": 4,
 "nbformat_minor": 5
}
