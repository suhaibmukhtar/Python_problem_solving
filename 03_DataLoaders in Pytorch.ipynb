{
 "cells": [
  {
   "cell_type": "markdown",
   "id": "aa9d2b51",
   "metadata": {},
   "source": [
    "**A DataLoader in PyTorch is an iterable object that loads data from a dataset in batches. It is a useful tool for training deep learning models, as it can help to improve the efficiency and performance of the training process.\n",
    "The DataLoader class takes in a dataset object and a number of configuration options, such as the batch size, the number of workers, and the shuffle flag. It then loads the data from the dataset in batches and returns it in a format that can be consumed by the model.\n",
    "The DataLoader class can be used to load data from a variety of sources, including files, databases, and memory. It can also be used to load data in parallel, which can improve the performance of the training process.**"
   ]
  },
  {
   "cell_type": "code",
   "execution_count": 15,
   "id": "b1d5827b",
   "metadata": {},
   "outputs": [],
   "source": [
    "import torch\n",
    "from torch.utils.data import Dataset,DataLoader\n",
    "import numpy as np"
   ]
  },
  {
   "cell_type": "markdown",
   "id": "968a122d",
   "metadata": {},
   "source": [
    "### This class will return the dataset obeject which has 3 modules"
   ]
  },
  {
   "cell_type": "code",
   "execution_count": 16,
   "id": "7899d9db",
   "metadata": {},
   "outputs": [],
   "source": [
    "# This set is given as input to the Datasets class\n",
    "class OurDataset(Dataset):\n",
    "    def __init__(self,x,y):\n",
    "        #data loadeing\n",
    "        self.x=torch.from_numpy(x) #conversion of numpy to tensor\n",
    "        self.y=torch.from_numpy(y)\n",
    "    def __getitem__(self,index):\n",
    "        #dataset[0]\n",
    "        return self.x[index],self.y[index]\n",
    "    def __len__(self):\n",
    "        #lengths\n",
    "        return len(self.x)"
   ]
  },
  {
   "cell_type": "code",
   "execution_count": 17,
   "id": "2a89e6cd",
   "metadata": {},
   "outputs": [],
   "source": [
    "## Creating random dependent variable vecotor and input features\n",
    "x=np.random.randn(150,5)\n",
    "y=np.random.randn(150,1)"
   ]
  },
  {
   "cell_type": "code",
   "execution_count": 18,
   "id": "6a0ba554",
   "metadata": {},
   "outputs": [
    {
     "data": {
      "text/plain": [
       "array([[ 6.13762630e-01, -1.62167666e+00,  6.76988233e-01,\n",
       "         9.88588567e-01, -2.55830592e+00],\n",
       "       [-2.32718578e+00,  1.20334099e+00, -6.56168689e-03,\n",
       "         1.36664948e+00, -5.04902531e-01],\n",
       "       [-7.75947238e-02,  2.40125951e+00, -7.32267189e-01,\n",
       "         1.68814996e+00,  3.38689610e+00],\n",
       "       [-1.29730677e-01,  2.44378165e-01, -1.41977807e-01,\n",
       "         4.07358824e-01, -2.62095957e-01],\n",
       "       [-1.34597552e+00,  7.69223445e-01, -6.30866156e-01,\n",
       "         5.68207912e-01,  7.80961405e-01],\n",
       "       [ 1.14777941e+00,  2.42660117e-01, -1.19416763e+00,\n",
       "         1.30905940e+00, -7.03807918e-01],\n",
       "       [-1.07524166e-01,  6.96887903e-01, -1.69362673e-01,\n",
       "         2.47982379e+00, -1.29242058e+00],\n",
       "       [ 1.52769170e+00,  1.50078275e-01, -1.90229558e-01,\n",
       "        -1.05958466e+00, -9.82781316e-01],\n",
       "       [-5.11955164e-01, -7.25580672e-01,  5.47984492e-01,\n",
       "        -1.28096374e-01,  1.89203756e+00],\n",
       "       [-6.89703818e-01, -5.69183966e-01,  1.98903086e+00,\n",
       "         7.80283499e-01,  3.76035322e-01],\n",
       "       [-1.10409849e+00,  5.33823363e-01,  1.58999357e+00,\n",
       "         2.70048683e-01,  5.67027623e-01],\n",
       "       [-7.01832109e-01,  1.25692366e-01, -5.17805720e-01,\n",
       "        -9.28846230e-01,  1.72822241e+00],\n",
       "       [-2.00438545e-01,  6.60613284e-01, -2.21328016e-01,\n",
       "        -1.79969204e-01, -1.40624403e-01],\n",
       "       [ 8.19439700e-01,  3.37844627e-01, -8.99569648e-01,\n",
       "         2.31101908e-03,  1.48767818e+00],\n",
       "       [-2.09356785e+00, -8.85040180e-01,  9.92264235e-01,\n",
       "        -1.04461026e+00,  1.25170899e+00],\n",
       "       [ 1.13068621e+00, -1.46627785e+00,  4.25936066e-01,\n",
       "        -1.99200016e+00,  9.40710256e-01],\n",
       "       [-2.96720338e-01, -1.05364509e+00,  2.51904664e-01,\n",
       "         8.36312511e-01,  1.60203546e+00],\n",
       "       [-7.59994497e-02,  6.02940291e-01, -8.80428714e-01,\n",
       "         1.14290306e+00, -3.42384163e-01],\n",
       "       [ 6.28157105e-01, -2.99495251e+00, -2.60026342e+00,\n",
       "        -1.34652420e-01,  8.62873249e-02],\n",
       "       [ 5.77468111e-02, -3.03019646e+00, -1.63964510e+00,\n",
       "        -2.03635274e+00, -1.25231288e+00]])"
      ]
     },
     "execution_count": 18,
     "metadata": {},
     "output_type": "execute_result"
    }
   ],
   "source": [
    "x[:20,:]"
   ]
  },
  {
   "cell_type": "markdown",
   "id": "b223f6d4",
   "metadata": {},
   "source": [
    "### Creates a batch of size=5, and verifying"
   ]
  },
  {
   "cell_type": "code",
   "execution_count": 19,
   "id": "89d54d30",
   "metadata": {},
   "outputs": [
    {
     "name": "stdout",
     "output_type": "stream",
     "text": [
      "tensor([[ 0.6138, -1.6217,  0.6770,  0.9886, -2.5583],\n",
      "        [-2.3272,  1.2033, -0.0066,  1.3666, -0.5049],\n",
      "        [-0.0776,  2.4013, -0.7323,  1.6881,  3.3869],\n",
      "        [-0.1297,  0.2444, -0.1420,  0.4074, -0.2621],\n",
      "        [-1.3460,  0.7692, -0.6309,  0.5682,  0.7810]], dtype=torch.float64)\n",
      "tensor([[-0.4294],\n",
      "        [-0.2300],\n",
      "        [ 0.6812],\n",
      "        [ 0.2458],\n",
      "        [-0.8515]], dtype=torch.float64)\n"
     ]
    }
   ],
   "source": [
    "#creating an object of dataset class, which is required to dataloader\n",
    "dataset=OurDataset(x,y)\n",
    "dataloader=DataLoader(dataset=dataset,batch_size=5,shuffle=False)\n",
    "#Creating the iterator of the dataloader object\n",
    "dataiter=iter(dataloader)\n",
    "for i,(inputs,labels) in enumerate(dataloader):\n",
    "    print(inputs)\n",
    "    print(labels)\n",
    "    break"
   ]
  },
  {
   "cell_type": "markdown",
   "id": "1867fcab",
   "metadata": {},
   "source": [
    "### iterator always given next 5 batch whenever we run it"
   ]
  },
  {
   "cell_type": "code",
   "execution_count": 20,
   "id": "d0efc826",
   "metadata": {},
   "outputs": [
    {
     "data": {
      "text/plain": [
       "[tensor([[ 0.6138, -1.6217,  0.6770,  0.9886, -2.5583],\n",
       "         [-2.3272,  1.2033, -0.0066,  1.3666, -0.5049],\n",
       "         [-0.0776,  2.4013, -0.7323,  1.6881,  3.3869],\n",
       "         [-0.1297,  0.2444, -0.1420,  0.4074, -0.2621],\n",
       "         [-1.3460,  0.7692, -0.6309,  0.5682,  0.7810]], dtype=torch.float64),\n",
       " tensor([[-0.4294],\n",
       "         [-0.2300],\n",
       "         [ 0.6812],\n",
       "         [ 0.2458],\n",
       "         [-0.8515]], dtype=torch.float64)]"
      ]
     },
     "execution_count": 20,
     "metadata": {},
     "output_type": "execute_result"
    }
   ],
   "source": [
    "next(dataiter)"
   ]
  },
  {
   "cell_type": "code",
   "execution_count": null,
   "id": "d5d20b03",
   "metadata": {},
   "outputs": [],
   "source": []
  },
  {
   "cell_type": "code",
   "execution_count": null,
   "id": "a6d4ded6",
   "metadata": {},
   "outputs": [],
   "source": []
  }
 ],
 "metadata": {
  "kernelspec": {
   "display_name": "Python 3 (ipykernel)",
   "language": "python",
   "name": "python3"
  },
  "language_info": {
   "codemirror_mode": {
    "name": "ipython",
    "version": 3
   },
   "file_extension": ".py",
   "mimetype": "text/x-python",
   "name": "python",
   "nbconvert_exporter": "python",
   "pygments_lexer": "ipython3",
   "version": "3.9.13"
  }
 },
 "nbformat": 4,
 "nbformat_minor": 5
}
